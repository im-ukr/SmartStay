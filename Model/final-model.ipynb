{
 "cells": [
  {
   "cell_type": "code",
   "execution_count": 3,
   "metadata": {},
   "outputs": [
    {
     "name": "stdout",
     "output_type": "stream",
     "text": [
      "\n",
      "Following Operations are available:\n",
      "+--------+----------------------------------------------------+\n",
      "| Option |                    Description                     |\n",
      "+--------+----------------------------------------------------+\n",
      "|   1    |       Room Price Computation (New Bookings)        |\n",
      "|   2    | Booking Receipt Generation (On Completion of Stay) |\n",
      "|   3    |              View SmartStay Analytics              |\n",
      "|   4    |        Export Full Analytics Report to PDF         |\n",
      "|   5    |                        Exit                        |\n",
      "+--------+----------------------------------------------------+\n"
     ]
    },
    {
     "name": "stdin",
     "output_type": "stream",
     "text": [
      "Enter your choice (1/2/3/4/5):  2\n",
      "Enter the room number:  34\n"
     ]
    },
    {
     "name": "stdout",
     "output_type": "stream",
     "text": [
      "Kindly ensure check-out is done for Receipt Generation.\n",
      "\n",
      "Following Operations are available:\n",
      "+--------+----------------------------------------------------+\n",
      "| Option |                    Description                     |\n",
      "+--------+----------------------------------------------------+\n",
      "|   1    |       Room Price Computation (New Bookings)        |\n",
      "|   2    | Booking Receipt Generation (On Completion of Stay) |\n",
      "|   3    |              View SmartStay Analytics              |\n",
      "|   4    |        Export Full Analytics Report to PDF         |\n",
      "|   5    |                        Exit                        |\n",
      "+--------+----------------------------------------------------+\n"
     ]
    },
    {
     "name": "stdin",
     "output_type": "stream",
     "text": [
      "Enter your choice (1/2/3/4/5):  2\n",
      "Enter the room number:  30\n"
     ]
    },
    {
     "name": "stdout",
     "output_type": "stream",
     "text": [
      "\n",
      "Reservation Details:\n",
      "+-------------------------+---------------------+\n",
      "|          Field          |         Data        |\n",
      "+-------------------------+---------------------+\n",
      "|        Guest Name       |     Utkarsh Roy     |\n",
      "|      Check-in Date      | 2024-04-08 00:00:00 |\n",
      "|      Check-out Date     | 2024-04-16 14:30:00 |\n",
      "|       Room Number       |          30         |\n",
      "|        Room Type        |        Normal       |\n",
      "|    Room Price per Day   |         7509        |\n",
      "| Duration of Stay (Days) |          8          |\n",
      "|      Meal Included      |          No         |\n",
      "|       Meal Charges      |    Not Applicable   |\n",
      "|         Discount        |       5406.48       |\n",
      "|         GST (5%)        |       2733.28       |\n",
      "|    Grand Total Amount   |       57398.8       |\n",
      "|    Time Generated At    | 2024-08-30 10:33:34 |\n",
      "+-------------------------+---------------------+\n",
      "PDF receipt saved as Booking_Receipt_2.pdf\n",
      "\u001b[1mBooking Receipt successfully mailed to utkarsh.roy25@gmail.com!\u001b[0m\n",
      "\n",
      "Following Operations are available:\n",
      "+--------+----------------------------------------------------+\n",
      "| Option |                    Description                     |\n",
      "+--------+----------------------------------------------------+\n",
      "|   1    |       Room Price Computation (New Bookings)        |\n",
      "|   2    | Booking Receipt Generation (On Completion of Stay) |\n",
      "|   3    |              View SmartStay Analytics              |\n",
      "|   4    |        Export Full Analytics Report to PDF         |\n",
      "|   5    |                        Exit                        |\n",
      "+--------+----------------------------------------------------+\n"
     ]
    },
    {
     "name": "stdin",
     "output_type": "stream",
     "text": [
      "Enter your choice (1/2/3/4/5):  5\n"
     ]
    },
    {
     "name": "stdout",
     "output_type": "stream",
     "text": [
      "Exited successfully!\n"
     ]
    }
   ],
   "source": [
    "# import function modules\n",
    "from room_price_computation import room_price_computation # option 1\n",
    "from fetch_reservation_and_calculate import fetch_reservation_and_calculate # option 2\n",
    "from view_analytics import view_Analytics # option 3\n",
    "from report_export import report_export # option 4\n",
    "import db_config # database config file\n",
    "\n",
    "#import necessary libraries\n",
    "from prettytable import PrettyTable \n",
    "from sqlalchemy import create_engine\n",
    "from sqlalchemy.orm import sessionmaker\n",
    "\n",
    "# Database connection parameters from db_config\n",
    "username = db_config.username\n",
    "password = db_config.password\n",
    "host = db_config.host\n",
    "port = db_config.port\n",
    "database = db_config.database\n",
    "\n",
    "# Create an engine instance with provided credentials\n",
    "engine = create_engine(f'mysql+pymysql://{username}:{password}@{host}:{port}/{database}')\n",
    "\n",
    "Session = sessionmaker(bind=engine)\n",
    "\n",
    "def main():\n",
    "    while True:\n",
    "        table = PrettyTable()\n",
    "        table.field_names = [\"Option\", \"Description\"]\n",
    "        table.add_row([\"1\", \"Room Price Computation (New Bookings)\"])\n",
    "        table.add_row([\"2\", \"Booking Receipt Generation (On Completion of Stay)\"])\n",
    "        table.add_row([\"3\", \"View SmartStay Analytics\"])\n",
    "        table.add_row([\"4\", \"Export Full Analytics Report to PDF\"])\n",
    "        table.add_row([\"5\", \"Exit\"])\n",
    "\n",
    "        print(\"\\nFollowing Operations are available:\")\n",
    "        print(table)\n",
    "        \n",
    "        choice = input(\"Enter your choice (1/2/3/4/5): \")\n",
    "\n",
    "        if choice == '1':\n",
    "            room_price_computation()  # Function for Room price computation \n",
    "        elif choice == '2':\n",
    "            room_no_input = input(\"Enter the room number: \")\n",
    "            session = Session()\n",
    "            fetch_reservation_and_calculate(int(room_no_input), session)  # Function for receipt generation\n",
    "        elif choice == '3':\n",
    "            view_Analytics()  # Function for viewing analytics\n",
    "        elif choice == '4':\n",
    "            report_export()   # Function for Report export to PDF \n",
    "        elif choice == '5':\n",
    "            print(\"Exited successfully!\")\n",
    "            break  \n",
    "        else:\n",
    "            print(\"Invalid choice. Please enter 1/2/3/4/5\")\n",
    "\n",
    "if __name__ == \"__main__\":\n",
    "    main()"
   ]
  },
  {
   "cell_type": "code",
   "execution_count": null,
   "metadata": {},
   "outputs": [],
   "source": []
  }
 ],
 "metadata": {
  "kernelspec": {
   "display_name": "Python 3 (ipykernel)",
   "language": "python",
   "name": "python3"
  },
  "language_info": {
   "codemirror_mode": {
    "name": "ipython",
    "version": 3
   },
   "file_extension": ".py",
   "mimetype": "text/x-python",
   "name": "python",
   "nbconvert_exporter": "python",
   "pygments_lexer": "ipython3",
   "version": "3.11.7"
  }
 },
 "nbformat": 4,
 "nbformat_minor": 4
}
